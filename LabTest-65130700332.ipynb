{
 "cells": [
  {
   "cell_type": "markdown",
   "id": "d85cf700-e815-493d-98e6-e81cbb46781c",
   "metadata": {},
   "source": [
    "## Lab Test \n",
    "- ชื่อ-สกุล : Panuvat Danvorapong\n",
    "- รหัสนักศึกษา : 65130700332\n",
    "- หลักสูตร : Information Technology Program\n"
   ]
  },
  {
   "cell_type": "markdown",
   "id": "4b94a0b5-4f8c-4b88-afa0-16fe2639013a",
   "metadata": {},
   "source": [
    "### คำแนะนำสำหรับเตรียมเครื่องสอบ (เครื่องที่คณะ)\n",
    "1. ตรวจสอบที่ drive C มีโฟลเดอร์ Python310 หรือเวอร์ชั่นอื่น \n",
    "2. ที่ Start Menu เปิด Setting ค้นหา Environment variables \n",
    "3. ที่หน้าต่าง System Properties คลิก Environment Variables... (อยู่ขวาล่าง)\n",
    "4. ส่วนของ User variables for ... เลือก Path\n",
    "5. กด New แล้ว กด Browse... ไปยังโฟลด์ Python310 ในข้อ 1  \n",
    "6. สร้างโฟลเดอร์เก็บงาน อาจจะ desktop ก็ได้ แล้วเข้าไปยัง folder นั้น \n",
    "7. พิมพ์ cmd ที่แถบแสดงเส้นทางของโฟลเดอร์ \n",
    "8. สร้าง virtual environment โดยพิมพ์ python -m venv ml-env (ใช้ชื่ออื่นแทน ml-env ก็ได้)\n",
    "9. พิมพ์ ml-env\\Scripts\\activate\n",
    "10. พิมพ์ pip install -r requirements.txt  เพื่อติดตั้ง packages ในไฟล์ requirements.txt  \n",
    "11. พิมพ์ jupyter-lab เพื่อเปิด editor ในการเขียนโค้ด \n"
   ]
  },
  {
   "cell_type": "markdown",
   "id": "b53b31f4-5069-47f9-bc1b-c25852ab7d5f",
   "metadata": {},
   "source": [
    "## สร้างโมเดลเพื่อทำนายการป่วนเป็นโรคหัวใจ (Heart Disease)\n",
    "\n",
    "กำหนดข้อมูลในไฟล์ heart.csv  โดยนำมาจาก: https://www.kaggle.com/datasets/fedesoriano/heart-failure-prediction\n",
    "\n",
    "### งานที่ต้องทำ \n",
    "- สร้างโมเดลทำนายการเป็นโรคหัวใจ โดยใช้ ML 5 วิธี และเปรียบเทียบประสิทธิภาพ \n",
    "- เลือกวิธีการสร้างโมเดลที่ดีที่สุดที่ได้จากการทดลองและวิเคราะห์ในข้อ 1 มาสร้างโมเดลเพื่อใช้ในการทำระบบทำนาย \n",
    "- Deploy โมเดลในรูปแบบของ Web Application โดยใช้ streamlit "
   ]
  },
  {
   "cell_type": "markdown",
   "id": "51bf0854-1493-4b8e-b547-d2ff74d1fea3",
   "metadata": {
    "tags": []
   },
   "source": [
    "## Prepare Data"
   ]
  },
  {
   "cell_type": "code",
   "execution_count": 2,
   "id": "e320b637-dcc4-4ab3-a446-a3f5030bc335",
   "metadata": {
    "tags": []
   },
   "outputs": [],
   "source": [
    "import numpy as np \n",
    "import pandas as pd "
   ]
  },
  {
   "cell_type": "markdown",
   "id": "1048db26-e421-445b-aada-84a1b96b986c",
   "metadata": {},
   "source": [
    "### 1. อ่านข้อมูลจากไฟล์ \"heart.csv\" เก็บไว้ที่ตัวแปร df_org"
   ]
  },
  {
   "cell_type": "code",
   "execution_count": 3,
   "id": "47f18142-77c0-420d-b43c-47e2af6f0d10",
   "metadata": {
    "tags": []
   },
   "outputs": [
    {
     "data": {
      "text/html": [
       "<div>\n",
       "<style scoped>\n",
       "    .dataframe tbody tr th:only-of-type {\n",
       "        vertical-align: middle;\n",
       "    }\n",
       "\n",
       "    .dataframe tbody tr th {\n",
       "        vertical-align: top;\n",
       "    }\n",
       "\n",
       "    .dataframe thead th {\n",
       "        text-align: right;\n",
       "    }\n",
       "</style>\n",
       "<table border=\"1\" class=\"dataframe\">\n",
       "  <thead>\n",
       "    <tr style=\"text-align: right;\">\n",
       "      <th></th>\n",
       "      <th>Age</th>\n",
       "      <th>Sex</th>\n",
       "      <th>ChestPainType</th>\n",
       "      <th>RestingBP</th>\n",
       "      <th>Cholesterol</th>\n",
       "      <th>FastingBS</th>\n",
       "      <th>RestingECG</th>\n",
       "      <th>MaxHR</th>\n",
       "      <th>ExerciseAngina</th>\n",
       "      <th>Oldpeak</th>\n",
       "      <th>ST_Slope</th>\n",
       "      <th>HeartDisease</th>\n",
       "    </tr>\n",
       "  </thead>\n",
       "  <tbody>\n",
       "    <tr>\n",
       "      <th>0</th>\n",
       "      <td>40</td>\n",
       "      <td>M</td>\n",
       "      <td>ATA</td>\n",
       "      <td>140</td>\n",
       "      <td>289</td>\n",
       "      <td>0</td>\n",
       "      <td>Normal</td>\n",
       "      <td>172</td>\n",
       "      <td>N</td>\n",
       "      <td>0.0</td>\n",
       "      <td>Up</td>\n",
       "      <td>0</td>\n",
       "    </tr>\n",
       "    <tr>\n",
       "      <th>1</th>\n",
       "      <td>49</td>\n",
       "      <td>F</td>\n",
       "      <td>NAP</td>\n",
       "      <td>160</td>\n",
       "      <td>180</td>\n",
       "      <td>0</td>\n",
       "      <td>Normal</td>\n",
       "      <td>156</td>\n",
       "      <td>N</td>\n",
       "      <td>1.0</td>\n",
       "      <td>Flat</td>\n",
       "      <td>1</td>\n",
       "    </tr>\n",
       "    <tr>\n",
       "      <th>2</th>\n",
       "      <td>37</td>\n",
       "      <td>M</td>\n",
       "      <td>ATA</td>\n",
       "      <td>130</td>\n",
       "      <td>283</td>\n",
       "      <td>0</td>\n",
       "      <td>ST</td>\n",
       "      <td>98</td>\n",
       "      <td>N</td>\n",
       "      <td>0.0</td>\n",
       "      <td>Up</td>\n",
       "      <td>0</td>\n",
       "    </tr>\n",
       "    <tr>\n",
       "      <th>3</th>\n",
       "      <td>48</td>\n",
       "      <td>F</td>\n",
       "      <td>ASY</td>\n",
       "      <td>138</td>\n",
       "      <td>214</td>\n",
       "      <td>0</td>\n",
       "      <td>Normal</td>\n",
       "      <td>108</td>\n",
       "      <td>Y</td>\n",
       "      <td>1.5</td>\n",
       "      <td>Flat</td>\n",
       "      <td>1</td>\n",
       "    </tr>\n",
       "    <tr>\n",
       "      <th>4</th>\n",
       "      <td>54</td>\n",
       "      <td>M</td>\n",
       "      <td>NAP</td>\n",
       "      <td>150</td>\n",
       "      <td>195</td>\n",
       "      <td>0</td>\n",
       "      <td>Normal</td>\n",
       "      <td>122</td>\n",
       "      <td>N</td>\n",
       "      <td>0.0</td>\n",
       "      <td>Up</td>\n",
       "      <td>0</td>\n",
       "    </tr>\n",
       "  </tbody>\n",
       "</table>\n",
       "</div>"
      ],
      "text/plain": [
       "   Age Sex ChestPainType  RestingBP  Cholesterol  FastingBS RestingECG  MaxHR  \\\n",
       "0   40   M           ATA        140          289          0     Normal    172   \n",
       "1   49   F           NAP        160          180          0     Normal    156   \n",
       "2   37   M           ATA        130          283          0         ST     98   \n",
       "3   48   F           ASY        138          214          0     Normal    108   \n",
       "4   54   M           NAP        150          195          0     Normal    122   \n",
       "\n",
       "  ExerciseAngina  Oldpeak ST_Slope  HeartDisease  \n",
       "0              N      0.0       Up             0  \n",
       "1              N      1.0     Flat             1  \n",
       "2              N      0.0       Up             0  \n",
       "3              Y      1.5     Flat             1  \n",
       "4              N      0.0       Up             0  "
      ]
     },
     "execution_count": 3,
     "metadata": {},
     "output_type": "execute_result"
    }
   ],
   "source": [
    "df_org = pd.read_csv(\"heart.csv\")\n",
    "df_org.head()"
   ]
  },
  {
   "cell_type": "code",
   "execution_count": 4,
   "id": "7bc4d024-1a5a-4289-881d-1bdf9ad1511d",
   "metadata": {
    "tags": []
   },
   "outputs": [
    {
     "data": {
      "text/plain": [
       "(918, 12)"
      ]
     },
     "execution_count": 4,
     "metadata": {},
     "output_type": "execute_result"
    }
   ],
   "source": [
    "df_org.shape"
   ]
  },
  {
   "cell_type": "code",
   "execution_count": 5,
   "id": "0e10fbe0-e201-42b2-b0e9-c56d7d051f26",
   "metadata": {
    "tags": []
   },
   "outputs": [
    {
     "data": {
      "text/plain": [
       "Index(['Age', 'Sex', 'ChestPainType', 'RestingBP', 'Cholesterol', 'FastingBS',\n",
       "       'RestingECG', 'MaxHR', 'ExerciseAngina', 'Oldpeak', 'ST_Slope',\n",
       "       'HeartDisease'],\n",
       "      dtype='object')"
      ]
     },
     "execution_count": 5,
     "metadata": {},
     "output_type": "execute_result"
    }
   ],
   "source": [
    "df_org.columns"
   ]
  },
  {
   "cell_type": "markdown",
   "id": "6d30d762-e7b4-4042-ba9a-69df9a664abc",
   "metadata": {},
   "source": [
    "### 2. คัดลอก  df_org เก็บไว้ที่ตัวแปร df"
   ]
  },
  {
   "cell_type": "code",
   "execution_count": 6,
   "id": "60e12946-758a-4612-805c-ac808cff54a0",
   "metadata": {
    "tags": []
   },
   "outputs": [],
   "source": [
    "df = df_org.copy()"
   ]
  },
  {
   "cell_type": "markdown",
   "id": "0852dbd3-5b3c-417c-ab81-4433d70e7e1f",
   "metadata": {},
   "source": [
    "### 3. ตรวจสอบว่ามีข้อมูลสูญหายหรือไม่  "
   ]
  },
  {
   "cell_type": "code",
   "execution_count": 10,
   "id": "dc5336db-f22a-4070-a1ea-6dcb3915a4b7",
   "metadata": {
    "tags": []
   },
   "outputs": [
    {
     "data": {
      "text/plain": [
       "Age               0\n",
       "Sex               0\n",
       "ChestPainType     0\n",
       "RestingBP         0\n",
       "Cholesterol       0\n",
       "FastingBS         0\n",
       "RestingECG        0\n",
       "MaxHR             0\n",
       "ExerciseAngina    0\n",
       "Oldpeak           0\n",
       "ST_Slope          0\n",
       "HeartDisease      0\n",
       "dtype: int64"
      ]
     },
     "execution_count": 10,
     "metadata": {},
     "output_type": "execute_result"
    }
   ],
   "source": [
    "df.isnull().sum()"
   ]
  },
  {
   "cell_type": "code",
   "execution_count": 11,
   "id": "c1264239-4410-4ccf-8f92-0f116d075b64",
   "metadata": {
    "tags": []
   },
   "outputs": [
    {
     "data": {
      "text/plain": [
       "Age               0\n",
       "Sex               0\n",
       "ChestPainType     0\n",
       "RestingBP         0\n",
       "Cholesterol       0\n",
       "FastingBS         0\n",
       "RestingECG        0\n",
       "MaxHR             0\n",
       "ExerciseAngina    0\n",
       "Oldpeak           0\n",
       "ST_Slope          0\n",
       "HeartDisease      0\n",
       "dtype: int64"
      ]
     },
     "execution_count": 11,
     "metadata": {},
     "output_type": "execute_result"
    }
   ],
   "source": [
    "df.isna().sum()"
   ]
  },
  {
   "cell_type": "markdown",
   "id": "c41454ed-866c-40bf-b12b-da09a7ca62f6",
   "metadata": {},
   "source": [
    "### 4. สร้างตัว Encoder ข้อมูลที่เป็น Categorical ให้เป็นตัวเลข โดยใช้ LabelEncoder สำหรับคอลัมน์ 'Sex', 'ChestPainType', 'RestingBP', 'ExerciseAngina', 'ST_Slope' "
   ]
  },
  {
   "cell_type": "code",
   "execution_count": 13,
   "id": "ef731901-d223-4c1c-8603-3c34f84fac7e",
   "metadata": {
    "tags": []
   },
   "outputs": [],
   "source": [
    "#Encoding the object columns.\n",
    "from sklearn.preprocessing import LabelEncoder\n",
    "\n",
    "Sex_encoder = LabelEncoder()\n",
    "ChestPainType_encoder = LabelEncoder()\n",
    "RestingECG_encoder = LabelEncoder()\n",
    "ExerciseAngina_encoder = LabelEncoder()\n",
    "ST_Slope_encoder = LabelEncoder()"
   ]
  },
  {
   "cell_type": "markdown",
   "id": "3ab22954-1452-4025-84a6-e655ed0ad44e",
   "metadata": {},
   "source": [
    "### 5. ทำให้ Encoder จดจำรูปแบบและแปลงข้อมูล คอลัมน์ 'Sex', 'ChestPainType', 'RestingBP', 'ExerciseAngina', 'ST_Slope'"
   ]
  },
  {
   "cell_type": "code",
   "execution_count": 14,
   "id": "0a8678b3-9fc2-42cb-8f6d-86ba3e15f9c2",
   "metadata": {
    "tags": []
   },
   "outputs": [],
   "source": [
    "df['Sex'] = Sex_encoder.fit_transform(df['Sex'])\n",
    "df['ChestPainType'] = ChestPainType_encoder.fit_transform(df['ChestPainType'])\n",
    "df['RestingECG'] = RestingECG_encoder.fit_transform(df['RestingECG'])\n",
    "df['ExerciseAngina'] = ExerciseAngina_encoder.fit_transform(df['ExerciseAngina'])\n",
    "df['ST_Slope'] = ST_Slope_encoder.fit_transform(df['ST_Slope'])"
   ]
  },
  {
   "cell_type": "code",
   "execution_count": 15,
   "id": "11ef87bb-9b36-4c96-a313-1851de9ffc2f",
   "metadata": {
    "tags": []
   },
   "outputs": [
    {
     "data": {
      "text/html": [
       "<div>\n",
       "<style scoped>\n",
       "    .dataframe tbody tr th:only-of-type {\n",
       "        vertical-align: middle;\n",
       "    }\n",
       "\n",
       "    .dataframe tbody tr th {\n",
       "        vertical-align: top;\n",
       "    }\n",
       "\n",
       "    .dataframe thead th {\n",
       "        text-align: right;\n",
       "    }\n",
       "</style>\n",
       "<table border=\"1\" class=\"dataframe\">\n",
       "  <thead>\n",
       "    <tr style=\"text-align: right;\">\n",
       "      <th></th>\n",
       "      <th>Age</th>\n",
       "      <th>Sex</th>\n",
       "      <th>ChestPainType</th>\n",
       "      <th>RestingBP</th>\n",
       "      <th>Cholesterol</th>\n",
       "      <th>FastingBS</th>\n",
       "      <th>RestingECG</th>\n",
       "      <th>MaxHR</th>\n",
       "      <th>ExerciseAngina</th>\n",
       "      <th>Oldpeak</th>\n",
       "      <th>ST_Slope</th>\n",
       "      <th>HeartDisease</th>\n",
       "    </tr>\n",
       "  </thead>\n",
       "  <tbody>\n",
       "    <tr>\n",
       "      <th>0</th>\n",
       "      <td>40</td>\n",
       "      <td>1</td>\n",
       "      <td>1</td>\n",
       "      <td>140</td>\n",
       "      <td>289</td>\n",
       "      <td>0</td>\n",
       "      <td>1</td>\n",
       "      <td>172</td>\n",
       "      <td>0</td>\n",
       "      <td>0.0</td>\n",
       "      <td>2</td>\n",
       "      <td>0</td>\n",
       "    </tr>\n",
       "    <tr>\n",
       "      <th>1</th>\n",
       "      <td>49</td>\n",
       "      <td>0</td>\n",
       "      <td>2</td>\n",
       "      <td>160</td>\n",
       "      <td>180</td>\n",
       "      <td>0</td>\n",
       "      <td>1</td>\n",
       "      <td>156</td>\n",
       "      <td>0</td>\n",
       "      <td>1.0</td>\n",
       "      <td>1</td>\n",
       "      <td>1</td>\n",
       "    </tr>\n",
       "    <tr>\n",
       "      <th>2</th>\n",
       "      <td>37</td>\n",
       "      <td>1</td>\n",
       "      <td>1</td>\n",
       "      <td>130</td>\n",
       "      <td>283</td>\n",
       "      <td>0</td>\n",
       "      <td>2</td>\n",
       "      <td>98</td>\n",
       "      <td>0</td>\n",
       "      <td>0.0</td>\n",
       "      <td>2</td>\n",
       "      <td>0</td>\n",
       "    </tr>\n",
       "    <tr>\n",
       "      <th>3</th>\n",
       "      <td>48</td>\n",
       "      <td>0</td>\n",
       "      <td>0</td>\n",
       "      <td>138</td>\n",
       "      <td>214</td>\n",
       "      <td>0</td>\n",
       "      <td>1</td>\n",
       "      <td>108</td>\n",
       "      <td>1</td>\n",
       "      <td>1.5</td>\n",
       "      <td>1</td>\n",
       "      <td>1</td>\n",
       "    </tr>\n",
       "    <tr>\n",
       "      <th>4</th>\n",
       "      <td>54</td>\n",
       "      <td>1</td>\n",
       "      <td>2</td>\n",
       "      <td>150</td>\n",
       "      <td>195</td>\n",
       "      <td>0</td>\n",
       "      <td>1</td>\n",
       "      <td>122</td>\n",
       "      <td>0</td>\n",
       "      <td>0.0</td>\n",
       "      <td>2</td>\n",
       "      <td>0</td>\n",
       "    </tr>\n",
       "  </tbody>\n",
       "</table>\n",
       "</div>"
      ],
      "text/plain": [
       "   Age  Sex  ChestPainType  RestingBP  Cholesterol  FastingBS  RestingECG  \\\n",
       "0   40    1              1        140          289          0           1   \n",
       "1   49    0              2        160          180          0           1   \n",
       "2   37    1              1        130          283          0           2   \n",
       "3   48    0              0        138          214          0           1   \n",
       "4   54    1              2        150          195          0           1   \n",
       "\n",
       "   MaxHR  ExerciseAngina  Oldpeak  ST_Slope  HeartDisease  \n",
       "0    172               0      0.0         2             0  \n",
       "1    156               0      1.0         1             1  \n",
       "2     98               0      0.0         2             0  \n",
       "3    108               1      1.5         1             1  \n",
       "4    122               0      0.0         2             0  "
      ]
     },
     "execution_count": 15,
     "metadata": {},
     "output_type": "execute_result"
    }
   ],
   "source": [
    "df.head()"
   ]
  },
  {
   "cell_type": "markdown",
   "id": "72fe9601-69e9-438c-8ecf-98e214c2052f",
   "metadata": {},
   "source": [
    "### 6. ตรวจสอบ และบันทึกตัว Encoder "
   ]
  },
  {
   "cell_type": "code",
   "execution_count": 16,
   "id": "bcf2e398-92f2-49f2-8bfd-2fef688db2ca",
   "metadata": {
    "tags": []
   },
   "outputs": [
    {
     "name": "stdout",
     "output_type": "stream",
     "text": [
      "['F' 'M']\n",
      "['ASY' 'ATA' 'NAP' 'TA']\n",
      "['LVH' 'Normal' 'ST']\n",
      "['N' 'Y']\n",
      "['Down' 'Flat' 'Up']\n"
     ]
    }
   ],
   "source": [
    "import pickle\n",
    "\n",
    "print(Sex_encoder.classes_)\n",
    "print(ChestPainType_encoder.classes_)\n",
    "print(RestingECG_encoder.classes_)\n",
    "print(ExerciseAngina_encoder.classes_)\n",
    "print(ST_Slope_encoder.classes_)\n",
    "\n",
    "pickle.dump(Sex_encoder, open('encoder.Sex.sav', 'wb'))\n",
    "pickle.dump(ChestPainType_encoder, open('encoder.ChestPainType.sav', 'wb'))\n",
    "pickle.dump(RestingECG_encoder, open('encoder.RestingECG.sav', 'wb'))\n",
    "pickle.dump(ExerciseAngina_encoder, open('encoder.ExerciseAngina.sav', 'wb'))\n",
    "pickle.dump(ST_Slope_encoder, open('encoder.ST_Slope.sav', 'wb'))"
   ]
  },
  {
   "cell_type": "markdown",
   "id": "568d1c52-ffa3-4ef9-a81a-fd961d82fb45",
   "metadata": {},
   "source": [
    "### 7. สร้างตัวแปร X สำหรับเก็บ features ที่ประกอบด้วยข้อมูลใน df ทั้งหมด ยกเว้น คอลัมน์  'HeartDisease'  และสร้างตัวแปร y สำหรับเก็บ class โดยใช้ข้อมูลในคอลัมน์ 'HeartDisease'"
   ]
  },
  {
   "cell_type": "code",
   "execution_count": 17,
   "id": "ea6815d0-848f-421e-9369-50dd6a441c26",
   "metadata": {
    "tags": []
   },
   "outputs": [],
   "source": [
    "#  X = features and y = label/class.\n",
    "X = df.drop(['HeartDisease'], axis=1)\n",
    "y = df['HeartDisease']"
   ]
  },
  {
   "cell_type": "code",
   "execution_count": 20,
   "id": "a264f699-c86e-48a8-968c-3e1c576c43cb",
   "metadata": {
    "tags": []
   },
   "outputs": [
    {
     "data": {
      "text/html": [
       "<div>\n",
       "<style scoped>\n",
       "    .dataframe tbody tr th:only-of-type {\n",
       "        vertical-align: middle;\n",
       "    }\n",
       "\n",
       "    .dataframe tbody tr th {\n",
       "        vertical-align: top;\n",
       "    }\n",
       "\n",
       "    .dataframe thead th {\n",
       "        text-align: right;\n",
       "    }\n",
       "</style>\n",
       "<table border=\"1\" class=\"dataframe\">\n",
       "  <thead>\n",
       "    <tr style=\"text-align: right;\">\n",
       "      <th></th>\n",
       "      <th>Age</th>\n",
       "      <th>Sex</th>\n",
       "      <th>ChestPainType</th>\n",
       "      <th>RestingBP</th>\n",
       "      <th>Cholesterol</th>\n",
       "      <th>FastingBS</th>\n",
       "      <th>RestingECG</th>\n",
       "      <th>MaxHR</th>\n",
       "      <th>ExerciseAngina</th>\n",
       "      <th>Oldpeak</th>\n",
       "      <th>ST_Slope</th>\n",
       "    </tr>\n",
       "  </thead>\n",
       "  <tbody>\n",
       "    <tr>\n",
       "      <th>0</th>\n",
       "      <td>40</td>\n",
       "      <td>1</td>\n",
       "      <td>1</td>\n",
       "      <td>140</td>\n",
       "      <td>289</td>\n",
       "      <td>0</td>\n",
       "      <td>1</td>\n",
       "      <td>172</td>\n",
       "      <td>0</td>\n",
       "      <td>0.0</td>\n",
       "      <td>2</td>\n",
       "    </tr>\n",
       "    <tr>\n",
       "      <th>1</th>\n",
       "      <td>49</td>\n",
       "      <td>0</td>\n",
       "      <td>2</td>\n",
       "      <td>160</td>\n",
       "      <td>180</td>\n",
       "      <td>0</td>\n",
       "      <td>1</td>\n",
       "      <td>156</td>\n",
       "      <td>0</td>\n",
       "      <td>1.0</td>\n",
       "      <td>1</td>\n",
       "    </tr>\n",
       "    <tr>\n",
       "      <th>2</th>\n",
       "      <td>37</td>\n",
       "      <td>1</td>\n",
       "      <td>1</td>\n",
       "      <td>130</td>\n",
       "      <td>283</td>\n",
       "      <td>0</td>\n",
       "      <td>2</td>\n",
       "      <td>98</td>\n",
       "      <td>0</td>\n",
       "      <td>0.0</td>\n",
       "      <td>2</td>\n",
       "    </tr>\n",
       "    <tr>\n",
       "      <th>3</th>\n",
       "      <td>48</td>\n",
       "      <td>0</td>\n",
       "      <td>0</td>\n",
       "      <td>138</td>\n",
       "      <td>214</td>\n",
       "      <td>0</td>\n",
       "      <td>1</td>\n",
       "      <td>108</td>\n",
       "      <td>1</td>\n",
       "      <td>1.5</td>\n",
       "      <td>1</td>\n",
       "    </tr>\n",
       "    <tr>\n",
       "      <th>4</th>\n",
       "      <td>54</td>\n",
       "      <td>1</td>\n",
       "      <td>2</td>\n",
       "      <td>150</td>\n",
       "      <td>195</td>\n",
       "      <td>0</td>\n",
       "      <td>1</td>\n",
       "      <td>122</td>\n",
       "      <td>0</td>\n",
       "      <td>0.0</td>\n",
       "      <td>2</td>\n",
       "    </tr>\n",
       "  </tbody>\n",
       "</table>\n",
       "</div>"
      ],
      "text/plain": [
       "   Age  Sex  ChestPainType  RestingBP  Cholesterol  FastingBS  RestingECG  \\\n",
       "0   40    1              1        140          289          0           1   \n",
       "1   49    0              2        160          180          0           1   \n",
       "2   37    1              1        130          283          0           2   \n",
       "3   48    0              0        138          214          0           1   \n",
       "4   54    1              2        150          195          0           1   \n",
       "\n",
       "   MaxHR  ExerciseAngina  Oldpeak  ST_Slope  \n",
       "0    172               0      0.0         2  \n",
       "1    156               0      1.0         1  \n",
       "2     98               0      0.0         2  \n",
       "3    108               1      1.5         1  \n",
       "4    122               0      0.0         2  "
      ]
     },
     "execution_count": 20,
     "metadata": {},
     "output_type": "execute_result"
    }
   ],
   "source": [
    "X.head(5)"
   ]
  },
  {
   "cell_type": "code",
   "execution_count": 19,
   "id": "c0a9eab6-3da6-4c94-9f59-71efba78b905",
   "metadata": {
    "tags": []
   },
   "outputs": [
    {
     "data": {
      "text/plain": [
       "0    0\n",
       "1    1\n",
       "2    0\n",
       "3    1\n",
       "4    0\n",
       "Name: HeartDisease, dtype: int64"
      ]
     },
     "execution_count": 19,
     "metadata": {},
     "output_type": "execute_result"
    }
   ],
   "source": [
    "y.head(5)"
   ]
  },
  {
   "cell_type": "markdown",
   "id": "140e8b6e-f36e-4f84-a0bd-8ab3c02a2899",
   "metadata": {},
   "source": [
    "### 8. แบ่งข้อมูล X และ y สำหรับ Train (X_train, y_train) และ Test (X_test, y_test) \n",
    "\n",
    "โดยใช้ train_test_split กำหนด  test_size=0.2 "
   ]
  },
  {
   "cell_type": "code",
   "execution_count": 23,
   "id": "709a4618-e4a5-4d11-a3fb-1592951199bf",
   "metadata": {
    "tags": []
   },
   "outputs": [],
   "source": [
    "from sklearn.model_selection import train_test_split\n",
    "X_train,X_test,y_train,y_test=train_test_split(X,y, test_size=0.2, random_state=123)"
   ]
  },
  {
   "cell_type": "markdown",
   "id": "50d20500-6b4b-4c97-b739-be27ccb95793",
   "metadata": {
    "tags": []
   },
   "source": [
    "## Create Model & Evaluate "
   ]
  },
  {
   "cell_type": "markdown",
   "id": "bc4d8f80-9dc2-476b-a679-3b092393a6e7",
   "metadata": {},
   "source": [
    "### 9. สร้างตัวแปร evaluations แบบ DataFram สำหรับเก็บผลการประเมิน โดยกำหนด columns=['Accuracy','F1', 'Precision', 'Recall'] \n",
    "\n",
    "และ index=['Decision Tress', 'Random Forest', 'KNN', 'AdaBoost', 'XGBoost']  โดยที่ Index เป็นวิธีที่เราจะนำมาสร้างโมเดล หากนักศึกษาใช้โมเดลอื่นให้เปลี่ยนชื่อให้เหมาะสม "
   ]
  },
  {
   "cell_type": "code",
   "execution_count": 24,
   "id": "c8d8dda6-7d19-4a15-a27a-0bab2da056ac",
   "metadata": {
    "tags": []
   },
   "outputs": [],
   "source": [
    "\n",
    "from sklearn.metrics import accuracy_score,f1_score,precision_score,recall_score\n",
    "from sklearn.metrics import confusion_matrix, ConfusionMatrixDisplay, classification_report\n",
    "import matplotlib.pyplot as plt\n",
    "import seaborn as sns\n",
    "\n",
    "evaluations = pd.DataFrame(columns=['Accuracy','F1', 'Precision', 'Recall'], index=['Decision Tress', 'Random Forest', 'KNN', 'AdaBoost', 'XGBoost'])\n"
   ]
  },
  {
   "cell_type": "markdown",
   "id": "c1e01b7a-233a-4a1b-af75-2d5343d93ffa",
   "metadata": {
    "tags": []
   },
   "source": [
    "### 10. Decision Tress  \n",
    "\n",
    "- สร้างโมเดลโดยใช้ DecisionTreeClassifier และวัดผล \n",
    "- แสดงผลโดยใช้ classification_report\n",
    "- เก็บค่าผลประเมิน ได้แก่ 'Accuracy','F1', 'Precision', 'Recall' ลงในตัวแปร evaluations \n",
    "- หา confusion matrix และแสดงผล \n"
   ]
  },
  {
   "cell_type": "code",
   "execution_count": 25,
   "id": "2ce47cce-c463-4247-9c95-86886e3b395a",
   "metadata": {
    "tags": []
   },
   "outputs": [
    {
     "name": "stdout",
     "output_type": "stream",
     "text": [
      "Summary Evaluation: \n",
      "               precision    recall  f1-score   support\n",
      "\n",
      "           0     0.8025    0.8025    0.8025        81\n",
      "           1     0.8447    0.8447    0.8447       103\n",
      "\n",
      "    accuracy                         0.8261       184\n",
      "   macro avg     0.8236    0.8236    0.8236       184\n",
      "weighted avg     0.8261    0.8261    0.8261       184\n",
      "\n",
      "               Accuracy     F1 Precision Recall\n",
      "Decision Tress    82.61  82.61     82.61  82.61\n",
      "Random Forest       NaN    NaN       NaN    NaN\n",
      "KNN                 NaN    NaN       NaN    NaN\n",
      "AdaBoost            NaN    NaN       NaN    NaN\n",
      "XGBoost             NaN    NaN       NaN    NaN\n"
     ]
    },
    {
     "data": {
      "image/png": "[encoded data removed]",
      "text/plain": [
       "<Figure size 700x700 with 2 Axes>"
      ]
     },
     "metadata": {},
     "output_type": "display_data"
    }
   ],
   "source": [
    "from sklearn.tree import DecisionTreeClassifier\n",
    "\n",
    "dt_classifier= DecisionTreeClassifier()\n",
    "\n",
    "dt_classifier.fit(X_train,y_train)\n",
    "y_pred=dt_classifier.predict(X_test)\n",
    "\n",
    "summary_eval = classification_report(y_test,y_pred,digits=4)\n",
    "\n",
    "print(\"Summary Evaluation: \\n\",summary_eval)\n",
    "\n",
    "acc = round(accuracy_score(y_test,y_pred)*100,2)\n",
    "f1 = round(f1_score(y_test,y_pred,average='weighted')*100,2)\n",
    "pre = round(precision_score(y_test,y_pred,average='weighted')*100,2)\n",
    "rec = round(recall_score(y_test,y_pred,average='weighted')*100,2)\n",
    "\n",
    "evaluations.loc['Decision Tress'] = [acc,f1,pre,rec]\n",
    "print(evaluations)\n",
    "\n",
    "cfm = confusion_matrix(y_test,y_pred)\n",
    "plt.figure(figsize=(7,7))\n",
    "sns.heatmap(data=cfm,linewidth=3, annot=True, square=True, cmap='Blues')\n",
    "plt.xlabel(\"Predicted label\")\n",
    "plt.ylabel(\"Actual label\")\n",
    "plt.title(\"Confusion Matrix from Decision Tree Model\")\n",
    "plt.show()"
   ]
  },
  {
   "cell_type": "markdown",
   "id": "8666e53e-5297-4d4d-b272-b0b2c95fa981",
   "metadata": {},
   "source": [
    "### 11. Random Forest \n",
    "- สร้างโมเดลโดยใช้ RandomForestClassifier และวัดผล \n",
    "- แสดงผลโดยใช้ classification_report\n",
    "- เก็บค่าผลประเมิน ได้แก่ 'Accuracy','F1', 'Precision', 'Recall' ลงในตัวแปร evaluations \n",
    "- หา confusion matrix และแสดงผล "
   ]
  },
  {
   "cell_type": "code",
   "execution_count": 30,
   "id": "7a9a65e8-04e7-44d9-813c-799d64b4f5e6",
   "metadata": {
    "tags": []
   },
   "outputs": [
    {
     "name": "stdout",
     "output_type": "stream",
     "text": [
      "Summary Evaluation: \n",
      "               precision    recall  f1-score   support\n",
      "\n",
      "           0     0.8767    0.7901    0.8312        81\n",
      "           1     0.8468    0.9126    0.8785       103\n",
      "\n",
      "    accuracy                         0.8587       184\n",
      "   macro avg     0.8618    0.8514    0.8548       184\n",
      "weighted avg     0.8600    0.8587    0.8577       184\n",
      "\n",
      "               Accuracy     F1 Precision Recall\n",
      "Decision Tress    82.61  82.61     82.61  82.61\n",
      "Random Forest     85.87  85.77      86.0  85.87\n",
      "KNN                 NaN    NaN       NaN    NaN\n",
      "AdaBoost            NaN    NaN       NaN    NaN\n",
      "XGBoost           82.61  82.52     82.61  82.61\n",
      "Ellipsis          82.61  82.48     82.68  82.61\n"
     ]
    },
    {
     "data": {
      "image/png": "[encoded data removed]",
      "text/plain": [
       "<Figure size 700x700 with 2 Axes>"
      ]
     },
     "metadata": {},
     "output_type": "display_data"
    }
   ],
   "source": [
    "from sklearn.ensemble import RandomForestClassifier\n",
    "\n",
    "rf_classifier=RandomForestClassifier(random_state=0)\n",
    "\n",
    "\n",
    "rf_classifier.fit(X_train,y_train)\n",
    "y_pred=rf_classifier.predict(X_test)\n",
    "\n",
    "summary_eval = classification_report(y_test,y_pred,digits=4)\n",
    "\n",
    "print(\"Summary Evaluation: \\n\",summary_eval)\n",
    "\n",
    "acc = round(accuracy_score(y_test,y_pred)*100,2)\n",
    "f1 = round(f1_score(y_test,y_pred,average='weighted')*100,2)\n",
    "pre = round(precision_score(y_test,y_pred,average='weighted')*100,2)\n",
    "rec = round(recall_score(y_test,y_pred,average='weighted')*100,2)\n",
    "\n",
    "evaluations.loc['Random Forest'] = [acc,f1,pre,rec]\n",
    "print(evaluations)\n",
    "\n",
    "cfm = confusion_matrix(y_test,y_pred)\n",
    "plt.figure(figsize=(7,7))\n",
    "sns.heatmap(data=cfm,linewidth=3, annot=True, square=True, cmap='Blues')\n",
    "plt.xlabel(\"Predicted label\")\n",
    "plt.ylabel(\"Actual label\")\n",
    "plt.title(\"Confusion Matrix from ...\")\n",
    "plt.show()\n"
   ]
  },
  {
   "cell_type": "markdown",
   "id": "3b30ae77-ddd3-451f-b584-bd6ee8a92376",
   "metadata": {},
   "source": [
    "### 12. KNN\n",
    "- สร้างโมเดลโดยใช้ KNeighborsClassifier และวัดผล \n",
    "- แสดงผลโดยใช้ classification_report\n",
    "- เก็บค่าผลประเมิน ได้แก่ 'Accuracy','F1', 'Precision', 'Recall' ลงในตัวแปร evaluations \n",
    "- หา confusion matrix และแสดงผล "
   ]
  },
  {
   "cell_type": "code",
   "execution_count": 31,
   "id": "5fef5828-59a1-47ac-9398-bb2c8e1a1091",
   "metadata": {
    "tags": []
   },
   "outputs": [
    {
     "name": "stdout",
     "output_type": "stream",
     "text": [
      "Summary Evaluation: \n",
      "               precision    recall  f1-score   support\n",
      "\n",
      "           0     0.6835    0.6667    0.6750        81\n",
      "           1     0.7429    0.7573    0.7500       103\n",
      "\n",
      "    accuracy                         0.7174       184\n",
      "   macro avg     0.7132    0.7120    0.7125       184\n",
      "weighted avg     0.7167    0.7174    0.7170       184\n",
      "\n",
      "               Accuracy     F1 Precision Recall\n",
      "Decision Tress    82.61  82.61     82.61  82.61\n",
      "Random Forest     85.87  85.77      86.0  85.87\n",
      "KNN               71.74   71.7     71.67  71.74\n",
      "AdaBoost            NaN    NaN       NaN    NaN\n",
      "XGBoost           82.61  82.52     82.61  82.61\n",
      "Ellipsis          82.61  82.48     82.68  82.61\n"
     ]
    },
    {
     "data": {
      "image/png": "[encoded data removed]",
      "text/plain": [
       "<Figure size 700x700 with 2 Axes>"
      ]
     },
     "metadata": {},
     "output_type": "display_data"
    }
   ],
   "source": [
    "from sklearn.neighbors import KNeighborsClassifier\n",
    "\n",
    "knn_classifier = KNeighborsClassifier()\n",
    "\n",
    "\n",
    "knn_classifier.fit(X_train,y_train)\n",
    "y_pred=knn_classifier.predict(X_test)\n",
    "\n",
    "summary_eval = classification_report(y_test,y_pred,digits=4)\n",
    "\n",
    "print(\"Summary Evaluation: \\n\",summary_eval)\n",
    "\n",
    "acc = round(accuracy_score(y_test,y_pred)*100,2)\n",
    "f1 = round(f1_score(y_test,y_pred,average='weighted')*100,2)\n",
    "pre = round(precision_score(y_test,y_pred,average='weighted')*100,2)\n",
    "rec = round(recall_score(y_test,y_pred,average='weighted')*100,2)\n",
    "\n",
    "evaluations.loc['KNN'] = [acc,f1,pre,rec]\n",
    "print(evaluations)\n",
    "\n",
    "cfm = confusion_matrix(y_test,y_pred)\n",
    "plt.figure(figsize=(7,7))\n",
    "sns.heatmap(data=cfm,linewidth=3, annot=True, square=True, cmap='Blues')\n",
    "plt.xlabel(\"Predicted label\")\n",
    "plt.ylabel(\"Actual label\")\n",
    "plt.title(\"Confusion Matrix from ...\")\n",
    "plt.show()"
   ]
  },
  {
   "cell_type": "markdown",
   "id": "c52529ca-64c4-4bf9-a299-dfbb0fb6978f",
   "metadata": {},
   "source": [
    "### 13. AdaBoost Classifier\n",
    "- สร้างโมเดลโดยใช้ AdaBoostClassifier และวัดผล \n",
    "- แสดงผลโดยใช้ classification_report\n",
    "- เก็บค่าผลประเมิน ได้แก่ 'Accuracy','F1', 'Precision', 'Recall' ลงในตัวแปร evaluations \n",
    "- หา confusion matrix และแสดงผล \n"
   ]
  },
  {
   "cell_type": "code",
   "execution_count": 32,
   "id": "3acbfd22-6158-4ad2-ba2a-3e3700510a00",
   "metadata": {
    "tags": []
   },
   "outputs": [
    {
     "name": "stdout",
     "output_type": "stream",
     "text": [
      "Summary Evaluation: \n",
      "               precision    recall  f1-score   support\n",
      "\n",
      "           0     0.8356    0.7531    0.7922        81\n",
      "           1     0.8198    0.8835    0.8505       103\n",
      "\n",
      "    accuracy                         0.8261       184\n",
      "   macro avg     0.8277    0.8183    0.8213       184\n",
      "weighted avg     0.8268    0.8261    0.8248       184\n",
      "\n",
      "               Accuracy     F1 Precision Recall\n",
      "Decision Tress    82.61  82.61     82.61  82.61\n",
      "Random Forest     85.87  85.77      86.0  85.87\n",
      "KNN               71.74   71.7     71.67  71.74\n",
      "AdaBoost          82.61  82.48     82.68  82.61\n",
      "XGBoost           82.61  82.52     82.61  82.61\n",
      "Ellipsis          82.61  82.48     82.68  82.61\n"
     ]
    },
    {
     "data": {
      "image/png": "[encoded data removed]",
      "text/plain": [
       "<Figure size 700x700 with 2 Axes>"
      ]
     },
     "metadata": {},
     "output_type": "display_data"
    }
   ],
   "source": [
    "from sklearn.ensemble import AdaBoostClassifier\n",
    "ada_classifier = AdaBoostClassifier()\n",
    "\n",
    "ada_classifier.fit(X_train,y_train)\n",
    "y_pred=ada_classifier.predict(X_test)\n",
    "\n",
    "summary_eval = classification_report(y_test,y_pred,digits=4)\n",
    "\n",
    "print(\"Summary Evaluation: \\n\",summary_eval)\n",
    "\n",
    "acc = round(accuracy_score(y_test,y_pred)*100,2)\n",
    "f1 = round(f1_score(y_test,y_pred,average='weighted')*100,2)\n",
    "pre = round(precision_score(y_test,y_pred,average='weighted')*100,2)\n",
    "rec = round(recall_score(y_test,y_pred,average='weighted')*100,2)\n",
    "\n",
    "evaluations.loc['AdaBoost'] = [acc,f1,pre,rec]\n",
    "print(evaluations)\n",
    "\n",
    "cfm = confusion_matrix(y_test,y_pred)\n",
    "plt.figure(figsize=(7,7))\n",
    "sns.heatmap(data=cfm,linewidth=3, annot=True, square=True, cmap='Blues')\n",
    "plt.xlabel(\"Predicted label\")\n",
    "plt.ylabel(\"Actual label\")\n",
    "plt.title(\"Confusion Matrix from ... \")\n",
    "plt.show()\n",
    "\n",
    "\n",
    "\n"
   ]
  },
  {
   "cell_type": "markdown",
   "id": "076bb1e3-18a9-4c60-8b21-030159544c5d",
   "metadata": {},
   "source": [
    "### 14. XGBoost\n",
    "- สร้างโมเดลโดยใช้ XGBClassifier และวัดผล \n",
    "- แสดงผลโดยใช้ classification_report\n",
    "- เก็บค่าผลประเมิน ได้แก่ 'Accuracy','F1', 'Precision', 'Recall' ลงในตัวแปร evaluations \n",
    "- หา confusion matrix และแสดงผล \n"
   ]
  },
  {
   "cell_type": "code",
   "execution_count": 33,
   "id": "8138e87e-f68b-4a8d-a4c8-ee644e589f2a",
   "metadata": {
    "tags": []
   },
   "outputs": [
    {
     "name": "stdout",
     "output_type": "stream",
     "text": [
      "Summary Evaluation: \n",
      "               precision    recall  f1-score   support\n",
      "\n",
      "           0     0.8267    0.7654    0.7949        81\n",
      "           1     0.8257    0.8738    0.8491       103\n",
      "\n",
      "    accuracy                         0.8261       184\n",
      "   macro avg     0.8262    0.8196    0.8220       184\n",
      "weighted avg     0.8261    0.8261    0.8252       184\n",
      "\n",
      "               Accuracy     F1 Precision Recall\n",
      "Decision Tress    82.61  82.61     82.61  82.61\n",
      "Random Forest     85.87  85.77      86.0  85.87\n",
      "KNN               71.74   71.7     71.67  71.74\n",
      "AdaBoost          82.61  82.48     82.68  82.61\n",
      "XGBoost           82.61  82.52     82.61  82.61\n",
      "Ellipsis          82.61  82.48     82.68  82.61\n"
     ]
    },
    {
     "data": {
      "image/png": "[encoded data removed]",
      "text/plain": [
       "<Figure size 700x700 with 2 Axes>"
      ]
     },
     "metadata": {},
     "output_type": "display_data"
    }
   ],
   "source": [
    "\n",
    "from xgboost import XGBClassifier\n",
    "\n",
    "xgb_classifier = XGBClassifier(n_estimators=2, max_depth=2, learning_rate=1, objective='binary:logistic')\n",
    "\n",
    "\n",
    "xgb_classifier.fit(X_train,y_train)\n",
    "y_pred=xgb_classifier.predict(X_test)\n",
    "\n",
    "summary_eval = classification_report(y_test,y_pred,digits=4)\n",
    "\n",
    "print(\"Summary Evaluation: \\n\",summary_eval)\n",
    "\n",
    "acc = round(accuracy_score(y_test,y_pred)*100,2)\n",
    "f1 = round(f1_score(y_test,y_pred,average='weighted')*100,2)\n",
    "pre = round(precision_score(y_test,y_pred,average='weighted')*100,2)\n",
    "rec = round(recall_score(y_test,y_pred,average='weighted')*100,2)\n",
    "\n",
    "evaluations.loc['XGBoost'] = [acc,f1,pre,rec]\n",
    "print(evaluations)\n",
    "\n",
    "cfm = confusion_matrix(y_test,y_pred)\n",
    "plt.figure(figsize=(7,7))\n",
    "sns.heatmap(data=cfm,linewidth=3, annot=True, square=True, cmap='Blues')\n",
    "plt.xlabel(\"Predicted label\")\n",
    "plt.ylabel(\"Actual label\")\n",
    "plt.title(\"Confusion Matrix from ...\")\n",
    "plt.show()\n"
   ]
  },
  {
   "cell_type": "markdown",
   "id": "685d1bf0-2f26-4045-a9d3-1e0bf3de595e",
   "metadata": {},
   "source": [
    "### 15. บันทึกผลการประเมินทั้งหมดใน evaluations ไว้ที่ไฟล์ 'evals.all.sav'"
   ]
  },
  {
   "cell_type": "code",
   "execution_count": 34,
   "id": "5abe9c8a-bffb-491d-bc57-730676a1c656",
   "metadata": {
    "tags": []
   },
   "outputs": [],
   "source": [
    "import pickle\n",
    "pickle.dump(evaluations, open('evals.all.sav', 'wb'))"
   ]
  },
  {
   "cell_type": "markdown",
   "id": "89660685-a0e3-4ed2-a7e7-fffd8d474f17",
   "metadata": {},
   "source": [
    "## Select Model & Create Model &  Save Model"
   ]
  },
  {
   "cell_type": "markdown",
   "id": "fd50d751-e8c3-44f8-b7c1-bccb270309e0",
   "metadata": {},
   "source": [
    "### 16. เลือกโมเดล ที่ดีที่สุด และอธิบาย "
   ]
  },
  {
   "cell_type": "markdown",
   "id": "0c56109e-2ef3-4d48-a480-cce1b6e81729",
   "metadata": {},
   "source": [
    "ตอบ Random Forest เพราะได้ผลลัพ์ ของ Accuracy  ที่แม่นยำที่สุดคือ 85.87 และค่า Precision อยู่ที่ 86.0 นอกจากนี้ตัว Algorithms นี้ยังมีค่า F1 , Recall สูงที่สุด\n",
    "\n"
   ]
  },
  {
   "cell_type": "markdown",
   "id": "fc7d4d1d-8d68-4d96-949e-b9e127a7b714",
   "metadata": {
    "tags": []
   },
   "source": [
    "### 17. สร้าง model โดยใช้ข้อมูลทั้งหมด X,y และบันทึกไว้ที่ไฟล์ 'model.heart.sav'"
   ]
  },
  {
   "cell_type": "code",
   "execution_count": 36,
   "id": "474bd580-71f3-4f93-bcff-fe34c53429f6",
   "metadata": {
    "tags": []
   },
   "outputs": [],
   "source": [
    "import pickle\n",
    "from sklearn.ensemble import RandomForestClassifier\n",
    "\n",
    "model = RandomForestClassifier()\n",
    "model.fit(X,y)\n",
    "\n",
    "pickle.dump(model, open('model.heart.sav', 'wb'))"
   ]
  },
  {
   "cell_type": "markdown",
   "id": "98ab3af8-8011-4f1c-8e0c-debae89a0b66",
   "metadata": {
    "tags": []
   },
   "source": [
    "## Deploy Model for Web App using Streamlit\n",
    "- pip install streamlit\n",
    "- python -m streamlit run fileapp.py\n",
    "- https://docs.streamlit.io/knowledge-base/using-streamlit/how-do-i-run-my-streamlit-script\n",
    "- https://docs.streamlit.io/library/api-reference\n",
    "\n"
   ]
  },
  {
   "cell_type": "markdown",
   "id": "83636f8e-56fd-4399-9da3-d6e142f4098c",
   "metadata": {
    "tags": []
   },
   "source": [
    "#### 18. สร้างไฟล์ app_main_xxx.py เมื่อ xxx แทนรหัสนักศึกษา 3 หลักสุดท้าย\n",
    "- โค้ดด้านล่างให้มาบางส่วน ให้นักศึกษาปรับแก้ไขให้สมบูรณ์"
   ]
  },
  {
   "cell_type": "code",
   "execution_count": 38,
   "id": "13c1f5d4-9d8e-43b6-8f9f-c509bde7f791",
   "metadata": {
    "tags": []
   },
   "outputs": [
    {
     "name": "stdout",
     "output_type": "stream",
     "text": [
      "Overwriting app_main_65130700332.py\n"
     ]
    }
   ],
   "source": [
    "%%writefile app_main_65130700332.py\n",
    "\n",
    "import streamlit as st \n",
    "import numpy as np\n",
    "import pandas as pd\n",
    "import pickle\n",
    "from sklearn.preprocessing import LabelEncoder\n",
    "from sklearn.ensemble import RandomForestClassifier\n",
    "\n",
    "\n",
    "model = pickle.load(open('model.heart.sav','rb'))\n",
    "\n",
    "Sex_encoder = pickle.load(open('encoder.Sex.sav','rb'))\n",
    "ChestPainType_encoder = pickle.load(open('encoder.ChestPainType.sav','rb'))\n",
    "RestingECG_encoder = pickle.load(open('encoder.RestingECG.sav','rb'))\n",
    "ExerciseAngina_encoder = pickle.load(open('encoder.ExerciseAngina.sav','rb'))\n",
    "ST_Slope_encoder = pickle.load(open('encoder.ST_Slope.sav','rb'))\n",
    "\n",
    "evaluations = pickle.load(open('evals.all.sav','rb'))\n",
    "\n",
    "st.title('Heart Disease Prection')\n",
    "\n",
    "tab1, tab2 = st.tabs([\"Prediction\", \"Model Evaluations\"])\n",
    "\n",
    "\n",
    "with tab1:\n",
    "    \n",
    "    #'Age'\n",
    "    x1 = st.slider('Age', 0, 100, 30)\n",
    "\n",
    "    #'Sex'\n",
    "    x2 = st.radio('Select Sex', Sex_encoder.classes_)\n",
    "    x2 = Sex_encoder.transform([x2])[0]\n",
    "\n",
    "    #'ChestPainType'\n",
    "    x3 = st.radio('Select ChestPainType', ChestPainType_encoder.classes_)\n",
    "    x3 = ChestPainType_encoder.transform([x3])[0]\n",
    "\n",
    "    #'RestingBP'\n",
    "    x4 = st.slider('RestingBP', 0, 210, 130)\n",
    "\n",
    "    #'Cholesterol'\n",
    "    x5 = st.slider('Cholesterol', 0, 700, 180)\n",
    "\n",
    "    #'FastingBS'\n",
    "    x6 = st.slider('FastingBS', 0, 1, 0)\n",
    "\n",
    "    #'RestingECG'\n",
    "    x7 = st.radio('Select RestingECG', RestingECG_encoder.classes_)\n",
    "    x7 = RestingECG_encoder.transform([x7])[0]\n",
    "\n",
    "    #'MaxHR'\n",
    "    x8 = st.slider('MaxHR',0,60,202)\n",
    "\n",
    "    #'ExerciseAngina'\n",
    "    x9 = st.radio('Select ExcerciseAngina', ExerciseAngina_encoder.classes_)\n",
    "    x9 = ExerciseAngina_encoder.transform([x9])[0]\n",
    "\n",
    "    #'Oldpeak'\n",
    "    x10 = st.slider('Oldpeak',min_value=-2.6,max_value=6.2)\n",
    "\n",
    "    #'ST_Slope'\n",
    "    x11 = st.radio('ST_Slope', ST_Slope_encoder.classes_)\n",
    "    x11 = ST_Slope_encoder.transform([x11])[0]\n",
    "\n",
    "    x_new = pd.DataFrame(data=np.array([x1, x2, x3, x4, x5, x6, x7, x8, x9, x10, x11]).reshape(1,-1), \n",
    "                 columns=['Age', 'Sex', 'ChestPainType', 'RestingBP', 'Cholesterol', 'FastingBS',\n",
    "                           'RestingECG', 'MaxHR', 'ExerciseAngina', 'Oldpeak', 'ST_Slope'])\n",
    "\n",
    "    pred = model.predict(x_new)\n",
    "\n",
    "    st.header('Predicted Result: ' , )\n",
    "\n",
    "    if pred ==0 : \n",
    "        st.subheader('Normal')\n",
    "    else :\n",
    "        st.subheader('Heart Disease')\n",
    "\n",
    "    #HeartDisease: output class [1: heart disease, 0: Normal]\n",
    "    \n",
    "with tab2:\n",
    "    import plotly.graph_objects as px\n",
    "    \n",
    "    evaluations = pickle.load(open('evals.all.sav','rb'))\n",
    "\n",
    "    x = evaluations.columns\n",
    "    fig = px.Figure(data=[\n",
    "        px.Bar(name = 'Decision Tree',\n",
    "               x = x,\n",
    "               y = evaluations.loc['Decision Tress']),\n",
    "        px.Bar(name = 'Random Forest',\n",
    "               x = x,\n",
    "               y =  evaluations.loc['Random Forest']),\n",
    "        px.Bar(name = 'KNN',\n",
    "               x = x,\n",
    "               y =  evaluations.loc['KNN']),\n",
    "        px.Bar(name = 'AdaBoost',\n",
    "               x = x,\n",
    "               y =  evaluations.loc['AdaBoost']),\n",
    "         px.Bar(name = 'XGBoost',\n",
    "               x = x,\n",
    "               y =  evaluations.loc['XGBoost'])\n",
    "        \n",
    "    ])\n",
    "    st.plotly_chart(fig, use_container_width=True)\n",
    "\n",
    "    st.dataframe(evaluations)"
   ]
  },
  {
   "cell_type": "markdown",
   "id": "67222ce9-97ac-4893-aa73-c3c875d0d85e",
   "metadata": {},
   "source": [
    "#### 19. ทดสอบการทำงานบนเครื่องที่ใช้สอบ และ capture หน้าผลการทำงาน บน localhost  \n"
   ]
  },
  {
   "attachments": {
    "41c4f5f6-29d8-4143-8b53-ac68143f15b5.png": {
     "image/png": "[encoded data removed]"
    },
    "d286babc-dc2a-461f-be8b-060bca4b1569.png": {
     "image/png": "[encoded data removed]"
    }
   },
   "cell_type": "markdown",
   "id": "11324d61-7d2b-40ae-9c9f-8b3ab6ca6efe",
   "metadata": {},
   "source": [
    "แปะรูป ... \n",
    "![image.png](attachment:41c4f5f6-29d8-4143-8b53-ac68143f15b5.png)\n",
    "![image.png](attachment:d286babc-dc2a-461f-be8b-060bca4b1569.png)"
   ]
  },
  {
   "cell_type": "markdown",
   "id": "ff3167e1-97a1-4238-9556-cc7a0222baf3",
   "metadata": {},
   "source": [
    "### 20. deploy บน https://streamlit.io/  แล้วส่งลิงค์ผลการ deploy ที่สามารถทำนายได้ ด้านล่าง \n",
    "\n",
    "นักศึกษาอาจต้องปรับแก้ไข requirements.txt เพื่อการ deploy โดยตรวจเช็ค package ที่ใช้โดยพิมพ์ pip list\n",
    "\n",
    "และใส่เท่าที่จำเป็น เช่น ควรต้องนำ jupyterlab ออก เพราะไม่จำเป็นต้องใช้ในการ deploy"
   ]
  },
  {
   "cell_type": "markdown",
   "id": "4b479c3e-fa7b-4184-a147-acb5f0b0060d",
   "metadata": {
    "tags": []
   },
   "source": [
    "แปะลิงค์ ..."
   ]
  }
 ],
 "metadata": {
  "kernelspec": {
   "display_name": "Python 3 (ipykernel)",
   "language": "python",
   "name": "python3"
  },
  "language_info": {
   "codemirror_mode": {
    "name": "ipython",
    "version": 3
   },
   "file_extension": ".py",
   "mimetype": "text/x-python",
   "name": "python",
   "nbconvert_exporter": "python",
   "pygments_lexer": "ipython3",
   "version": "3.11.3"
  }
 },
 "nbformat": 4,
 "nbformat_minor": 5
}
